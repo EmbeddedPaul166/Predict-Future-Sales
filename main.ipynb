{
 "cells": [
  {
   "cell_type": "markdown",
   "metadata": {},
   "source": [
    "# Goal\n",
    "In this project I'm going to build a predictor for sales that occur for shop with id = 5."
   ]
  },
  {
   "cell_type": "markdown",
   "metadata": {},
   "source": [
    "### Necessary imports"
   ]
  },
  {
   "cell_type": "code",
   "execution_count": 97,
   "metadata": {},
   "outputs": [],
   "source": [
    "import numpy as np\n",
    "import pandas as pd\n",
    "import seaborn as sb\n",
    "import tensorflow as tf\n",
    "import sklearn as sk"
   ]
  },
  {
   "cell_type": "markdown",
   "metadata": {},
   "source": [
    "### Load data"
   ]
  },
  {
   "cell_type": "code",
   "execution_count": 98,
   "metadata": {},
   "outputs": [],
   "source": [
    "df_train = pd.read_csv('data/sales_train.csv')\n",
    "df_test = pd.read_csv('data/test.csv')\n",
    "df_sample = pd.read_csv('data/sample_submission.csv')\n",
    "df_shops = pd.read_csv('data/shops.csv')\n",
    "df_items = pd.read_csv('data/items.csv')\n",
    "df_item_categories = pd.read_csv('data/item_categories.csv')"
   ]
  },
  {
   "cell_type": "code",
   "execution_count": 99,
   "metadata": {},
   "outputs": [
    {
     "name": "stdout",
     "output_type": "stream",
     "text": [
      "Train sample\n",
      "          date  date_block_num  shop_id  item_id  item_price  item_cnt_day\n",
      "0  02.01.2013               0       59    22154      999.00           1.0\n",
      "1  03.01.2013               0       25     2552      899.00           1.0\n",
      "2  05.01.2013               0       25     2552      899.00          -1.0\n",
      "3  06.01.2013               0       25     2554     1709.05           1.0\n",
      "4  15.01.2013               0       25     2555     1099.00           1.0\n",
      "5  10.01.2013               0       25     2564      349.00           1.0\n",
      "6  02.01.2013               0       25     2565      549.00           1.0\n",
      "7  04.01.2013               0       25     2572      239.00           1.0\n",
      "8  11.01.2013               0       25     2572      299.00           1.0\n",
      "9  03.01.2013               0       25     2573      299.00           3.0\n",
      "Test sample\n",
      "    ID  shop_id  item_id\n",
      "0   0        5     5037\n",
      "1   1        5     5320\n",
      "2   2        5     5233\n",
      "3   3        5     5232\n",
      "4   4        5     5268\n",
      "5   5        5     5039\n",
      "6   6        5     5041\n",
      "7   7        5     5046\n",
      "8   8        5     5319\n",
      "9   9        5     5003\n",
      "Sample submission\n",
      "    ID  item_cnt_month\n",
      "0   0             0.5\n",
      "1   1             0.5\n",
      "2   2             0.5\n",
      "3   3             0.5\n",
      "4   4             0.5\n",
      "5   5             0.5\n",
      "6   6             0.5\n",
      "7   7             0.5\n",
      "8   8             0.5\n",
      "9   9             0.5\n",
      "Shops\n",
      "                         shop_name  shop_id\n",
      "0   !Якутск Орджоникидзе, 56 фран        0\n",
      "1   !Якутск ТЦ \"Центральный\" фран        1\n",
      "2                Адыгея ТЦ \"Мега\"        2\n",
      "3  Балашиха ТРК \"Октябрь-Киномир\"        3\n",
      "4        Волжский ТЦ \"Волга Молл\"        4\n",
      "5          Вологда ТРЦ \"Мармелад\"        5\n",
      "6      Воронеж (Плехановская, 13)        6\n",
      "7          Воронеж ТРЦ \"Максимир\"        7\n",
      "8    Воронеж ТРЦ Сити-Парк \"Град\"        8\n",
      "9               Выездная Торговля        9\n",
      "Items\n",
      "                                            item_name  item_id  \\\n",
      "0          ! ВО ВЛАСТИ НАВАЖДЕНИЯ (ПЛАСТ.)         D        0   \n",
      "1  !ABBYY FineReader 12 Professional Edition Full...        1   \n",
      "2      ***В ЛУЧАХ СЛАВЫ   (UNV)                    D        2   \n",
      "3    ***ГОЛУБАЯ ВОЛНА  (Univ)                      D        3   \n",
      "4        ***КОРОБКА (СТЕКЛО)                       D        4   \n",
      "5  ***НОВЫЕ АМЕРИКАНСКИЕ ГРАФФИТИ  (UNI)         ...        5   \n",
      "6           ***УДАР ПО ВОРОТАМ (UNI)               D        6   \n",
      "7         ***УДАР ПО ВОРОТАМ-2 (UNI)               D        7   \n",
      "8           ***ЧАЙ С МУССОЛИНИ                     D        8   \n",
      "9      ***ШУГАРЛЭНДСКИЙ ЭКСПРЕСС (UNI)             D        9   \n",
      "\n",
      "   item_category_id  \n",
      "0                40  \n",
      "1                76  \n",
      "2                40  \n",
      "3                40  \n",
      "4                40  \n",
      "5                40  \n",
      "6                40  \n",
      "7                40  \n",
      "8                40  \n",
      "9                40  \n",
      "Item categories\n",
      "         item_category_name  item_category_id\n",
      "0  PC - Гарнитуры/Наушники                 0\n",
      "1         Аксессуары - PS2                 1\n",
      "2         Аксессуары - PS3                 2\n",
      "3         Аксессуары - PS4                 3\n",
      "4         Аксессуары - PSP                 4\n",
      "5      Аксессуары - PSVita                 5\n",
      "6    Аксессуары - XBOX 360                 6\n",
      "7    Аксессуары - XBOX ONE                 7\n",
      "8           Билеты (Цифра)                 8\n",
      "9          Доставка товара                 9\n"
     ]
    }
   ],
   "source": [
    "print('Train sample\\n', df_train.head(10))\n",
    "print('Test sample\\n', df_test.head(10))\n",
    "print('Sample submission\\n', df_sample.head(10))\n",
    "print('Shops\\n', df_shops.head(10))\n",
    "print('Items\\n', df_items.head(10))\n",
    "print('Item categories\\n', df_item_categories.head(10))"
   ]
  },
  {
   "cell_type": "markdown",
   "metadata": {},
   "source": [
    "### Outlier removal"
   ]
  },
  {
   "cell_type": "code",
   "execution_count": 100,
   "metadata": {},
   "outputs": [
    {
     "data": {
      "text/html": [
       "<div>\n",
       "<style scoped>\n",
       "    .dataframe tbody tr th:only-of-type {\n",
       "        vertical-align: middle;\n",
       "    }\n",
       "\n",
       "    .dataframe tbody tr th {\n",
       "        vertical-align: top;\n",
       "    }\n",
       "\n",
       "    .dataframe thead th {\n",
       "        text-align: right;\n",
       "    }\n",
       "</style>\n",
       "<table border=\"1\" class=\"dataframe\">\n",
       "  <thead>\n",
       "    <tr style=\"text-align: right;\">\n",
       "      <th></th>\n",
       "      <th>date</th>\n",
       "      <th>date_block_num</th>\n",
       "      <th>shop_id</th>\n",
       "      <th>item_id</th>\n",
       "      <th>item_price</th>\n",
       "      <th>item_cnt_day</th>\n",
       "    </tr>\n",
       "  </thead>\n",
       "  <tbody>\n",
       "    <tr>\n",
       "      <th>2</th>\n",
       "      <td>05.01.2013</td>\n",
       "      <td>0</td>\n",
       "      <td>25</td>\n",
       "      <td>2552</td>\n",
       "      <td>899.0</td>\n",
       "      <td>-1.0</td>\n",
       "    </tr>\n",
       "    <tr>\n",
       "      <th>148</th>\n",
       "      <td>23.01.2013</td>\n",
       "      <td>0</td>\n",
       "      <td>25</td>\n",
       "      <td>2321</td>\n",
       "      <td>999.0</td>\n",
       "      <td>-1.0</td>\n",
       "    </tr>\n",
       "    <tr>\n",
       "      <th>175</th>\n",
       "      <td>07.01.2013</td>\n",
       "      <td>0</td>\n",
       "      <td>25</td>\n",
       "      <td>2199</td>\n",
       "      <td>1449.0</td>\n",
       "      <td>-1.0</td>\n",
       "    </tr>\n",
       "    <tr>\n",
       "      <th>807</th>\n",
       "      <td>02.01.2013</td>\n",
       "      <td>0</td>\n",
       "      <td>25</td>\n",
       "      <td>2330</td>\n",
       "      <td>599.0</td>\n",
       "      <td>-1.0</td>\n",
       "    </tr>\n",
       "    <tr>\n",
       "      <th>1041</th>\n",
       "      <td>13.01.2013</td>\n",
       "      <td>0</td>\n",
       "      <td>25</td>\n",
       "      <td>5034</td>\n",
       "      <td>1989.0</td>\n",
       "      <td>-1.0</td>\n",
       "    </tr>\n",
       "    <tr>\n",
       "      <th>...</th>\n",
       "      <td>...</td>\n",
       "      <td>...</td>\n",
       "      <td>...</td>\n",
       "      <td>...</td>\n",
       "      <td>...</td>\n",
       "      <td>...</td>\n",
       "    </tr>\n",
       "    <tr>\n",
       "      <th>2934243</th>\n",
       "      <td>26.10.2015</td>\n",
       "      <td>33</td>\n",
       "      <td>25</td>\n",
       "      <td>3917</td>\n",
       "      <td>449.0</td>\n",
       "      <td>-1.0</td>\n",
       "    </tr>\n",
       "    <tr>\n",
       "      <th>2934462</th>\n",
       "      <td>18.10.2015</td>\n",
       "      <td>33</td>\n",
       "      <td>25</td>\n",
       "      <td>4896</td>\n",
       "      <td>6398.0</td>\n",
       "      <td>-1.0</td>\n",
       "    </tr>\n",
       "    <tr>\n",
       "      <th>2935263</th>\n",
       "      <td>05.10.2015</td>\n",
       "      <td>33</td>\n",
       "      <td>25</td>\n",
       "      <td>10039</td>\n",
       "      <td>249.0</td>\n",
       "      <td>-1.0</td>\n",
       "    </tr>\n",
       "    <tr>\n",
       "      <th>2935643</th>\n",
       "      <td>16.10.2015</td>\n",
       "      <td>33</td>\n",
       "      <td>25</td>\n",
       "      <td>7893</td>\n",
       "      <td>2990.0</td>\n",
       "      <td>-1.0</td>\n",
       "    </tr>\n",
       "    <tr>\n",
       "      <th>2935779</th>\n",
       "      <td>07.10.2015</td>\n",
       "      <td>33</td>\n",
       "      <td>25</td>\n",
       "      <td>7087</td>\n",
       "      <td>999.0</td>\n",
       "      <td>-1.0</td>\n",
       "    </tr>\n",
       "  </tbody>\n",
       "</table>\n",
       "<p>7356 rows × 6 columns</p>\n",
       "</div>"
      ],
      "text/plain": [
       "               date  date_block_num  shop_id  item_id  item_price  \\\n",
       "2        05.01.2013               0       25     2552       899.0   \n",
       "148      23.01.2013               0       25     2321       999.0   \n",
       "175      07.01.2013               0       25     2199      1449.0   \n",
       "807      02.01.2013               0       25     2330       599.0   \n",
       "1041     13.01.2013               0       25     5034      1989.0   \n",
       "...             ...             ...      ...      ...         ...   \n",
       "2934243  26.10.2015              33       25     3917       449.0   \n",
       "2934462  18.10.2015              33       25     4896      6398.0   \n",
       "2935263  05.10.2015              33       25    10039       249.0   \n",
       "2935643  16.10.2015              33       25     7893      2990.0   \n",
       "2935779  07.10.2015              33       25     7087       999.0   \n",
       "\n",
       "         item_cnt_day  \n",
       "2                -1.0  \n",
       "148              -1.0  \n",
       "175              -1.0  \n",
       "807              -1.0  \n",
       "1041             -1.0  \n",
       "...               ...  \n",
       "2934243          -1.0  \n",
       "2934462          -1.0  \n",
       "2935263          -1.0  \n",
       "2935643          -1.0  \n",
       "2935779          -1.0  \n",
       "\n",
       "[7356 rows x 6 columns]"
      ]
     },
     "execution_count": 100,
     "metadata": {},
     "output_type": "execute_result"
    }
   ],
   "source": [
    "df_train[df_train['item_cnt_day'] < 0]"
   ]
  },
  {
   "cell_type": "code",
   "execution_count": 101,
   "metadata": {},
   "outputs": [],
   "source": [
    "df_train.loc[df_train['item_cnt_day'] < 0, 'item_cnt_day'] = df_train['item_cnt_day'].mean().round()"
   ]
  },
  {
   "cell_type": "code",
   "execution_count": 102,
   "metadata": {},
   "outputs": [
    {
     "name": "stdout",
     "output_type": "stream",
     "text": [
      "Train sample\n",
      "          date  date_block_num  shop_id  item_id  item_price  item_cnt_day\n",
      "0  02.01.2013               0       59    22154      999.00           1.0\n",
      "1  03.01.2013               0       25     2552      899.00           1.0\n",
      "2  05.01.2013               0       25     2552      899.00           1.0\n",
      "3  06.01.2013               0       25     2554     1709.05           1.0\n",
      "4  15.01.2013               0       25     2555     1099.00           1.0\n",
      "5  10.01.2013               0       25     2564      349.00           1.0\n",
      "6  02.01.2013               0       25     2565      549.00           1.0\n",
      "7  04.01.2013               0       25     2572      239.00           1.0\n",
      "8  11.01.2013               0       25     2572      299.00           1.0\n",
      "9  03.01.2013               0       25     2573      299.00           3.0\n"
     ]
    }
   ],
   "source": [
    "print('Train sample\\n', df_train.head(10))"
   ]
  },
  {
   "cell_type": "code",
   "execution_count": 103,
   "metadata": {},
   "outputs": [],
   "source": [
    "df_train.loc[df_train['item_price'] < 0, 'item_price'] = df_train['item_price'].mean()"
   ]
  },
  {
   "cell_type": "code",
   "execution_count": 104,
   "metadata": {},
   "outputs": [
    {
     "data": {
      "text/html": [
       "<div>\n",
       "<style scoped>\n",
       "    .dataframe tbody tr th:only-of-type {\n",
       "        vertical-align: middle;\n",
       "    }\n",
       "\n",
       "    .dataframe tbody tr th {\n",
       "        vertical-align: top;\n",
       "    }\n",
       "\n",
       "    .dataframe thead th {\n",
       "        text-align: right;\n",
       "    }\n",
       "</style>\n",
       "<table border=\"1\" class=\"dataframe\">\n",
       "  <thead>\n",
       "    <tr style=\"text-align: right;\">\n",
       "      <th></th>\n",
       "      <th>date</th>\n",
       "      <th>date_block_num</th>\n",
       "      <th>shop_id</th>\n",
       "      <th>item_id</th>\n",
       "      <th>item_price</th>\n",
       "      <th>item_cnt_day</th>\n",
       "    </tr>\n",
       "  </thead>\n",
       "  <tbody>\n",
       "  </tbody>\n",
       "</table>\n",
       "</div>"
      ],
      "text/plain": [
       "Empty DataFrame\n",
       "Columns: [date, date_block_num, shop_id, item_id, item_price, item_cnt_day]\n",
       "Index: []"
      ]
     },
     "execution_count": 104,
     "metadata": {},
     "output_type": "execute_result"
    }
   ],
   "source": [
    "df_train[df_train['item_price'] < 0]"
   ]
  },
  {
   "cell_type": "code",
   "execution_count": 105,
   "metadata": {},
   "outputs": [
    {
     "data": {
      "text/html": [
       "<div>\n",
       "<style scoped>\n",
       "    .dataframe tbody tr th:only-of-type {\n",
       "        vertical-align: middle;\n",
       "    }\n",
       "\n",
       "    .dataframe tbody tr th {\n",
       "        vertical-align: top;\n",
       "    }\n",
       "\n",
       "    .dataframe thead th {\n",
       "        text-align: right;\n",
       "    }\n",
       "</style>\n",
       "<table border=\"1\" class=\"dataframe\">\n",
       "  <thead>\n",
       "    <tr style=\"text-align: right;\">\n",
       "      <th></th>\n",
       "      <th>date</th>\n",
       "      <th>date_block_num</th>\n",
       "      <th>shop_id</th>\n",
       "      <th>item_id</th>\n",
       "      <th>item_price</th>\n",
       "      <th>item_cnt_day</th>\n",
       "    </tr>\n",
       "  </thead>\n",
       "  <tbody>\n",
       "  </tbody>\n",
       "</table>\n",
       "</div>"
      ],
      "text/plain": [
       "Empty DataFrame\n",
       "Columns: [date, date_block_num, shop_id, item_id, item_price, item_cnt_day]\n",
       "Index: []"
      ]
     },
     "execution_count": 105,
     "metadata": {},
     "output_type": "execute_result"
    }
   ],
   "source": [
    "df_train[df_train.isna().any(1)]"
   ]
  },
  {
   "cell_type": "markdown",
   "metadata": {},
   "source": [
    "Sort data by date, but first convert it to datetime to make up for a fact that it's in european format"
   ]
  },
  {
   "cell_type": "code",
   "execution_count": 108,
   "metadata": {},
   "outputs": [
    {
     "name": "stdout",
     "output_type": "stream",
     "text": [
      "             date  date_block_num  shop_id  item_id  item_price  item_cnt_day\n",
      "109593 2013-01-01               0       46    18616       349.0           1.0\n",
      "107443 2013-01-01               0       37    22087        79.0           2.0\n",
      "75872  2013-01-01               0       54    17111       149.0           1.0\n",
      "85162  2013-01-01               0       54    11854       199.0           1.0\n",
      "18128  2013-01-01               0       28     4906      1799.0           1.0\n",
      "...           ...             ...      ...      ...         ...           ...\n",
      "111675 2013-01-22               0       42       32       349.0           1.0\n",
      "78849  2013-01-22               0       59    11220       118.6           1.0\n",
      "53596  2013-01-22               0       10     5378      2266.0           1.0\n",
      "82385  2013-01-22               0       54     3470       349.0           1.0\n",
      "58642  2013-01-22               0       12    13450      2799.0           1.0\n",
      "\n",
      "[70000 rows x 6 columns]\n"
     ]
    }
   ],
   "source": [
    "df_train['date'] = pd.to_datetime(df_train['date'])\n",
    "df_train = df_train.sort_values('date')\n",
    "print(df_train.head(70000))"
   ]
  },
  {
   "cell_type": "markdown",
   "metadata": {},
   "source": [
    "## Exploratory data analysis\n",
    "Form a dataframe with date, revenue and sale count per day"
   ]
  },
  {
   "cell_type": "code",
   "execution_count": 109,
   "metadata": {},
   "outputs": [],
   "source": [
    "date = None\n",
    "sale_cnt = None\n",
    "price = None\n",
    "df = pd.DataFrame(columns = ['date', 'revenue', 'item_cnt_day'])\n",
    "for index, row in df_train.iterrows():\n",
    "    if row.at['date'] == date:\n",
    "        sale_cnt += row.at['item_cnt_day']\n",
    "        price += row.at['item_price']\n",
    "    else:\n",
    "        date = row.at['date']\n",
    "        sale_cnt = row.at['item_cnt_day']\n",
    "        price = row.at['item_price']\n",
    "        df_row = pd.DataFrame({'date' : [date], 'revenue' : [sale_cnt*price], 'item_cnt_day' : [sale_cnt]})\n",
    "        df = df.append(df_row)\n",
    "    #Check for last row\n",
    "    if index == len(df_train_shop) - 1:\n",
    "        sale_cnt += row.at['item_cnt_day']\n",
    "        price += row.at['item_price']\n",
    "        df_row = pd.DataFrame({'date' : [date], 'revenue' : [sale_cnt*price], 'item_cnt_day' : [sale_cnt]})\n",
    "        df = df.append(df_row)"
   ]
  },
  {
   "cell_type": "code",
   "execution_count": 110,
   "metadata": {},
   "outputs": [
    {
     "name": "stdout",
     "output_type": "stream",
     "text": [
      "        date       revenue  item_cnt_day\n",
      "0 2013-01-01  3.490000e+02           1.0\n",
      "0 2013-01-02  7.600000e+01           1.0\n",
      "0 2013-01-03  4.490000e+02           1.0\n",
      "0 2013-01-04  1.490000e+02           1.0\n",
      "0 2013-01-05  2.190000e+02           1.0\n",
      "0 2013-01-06  1.999000e+03           1.0\n",
      "0 2013-01-07  2.500000e+01           1.0\n",
      "0 2013-01-08  6.690000e+02           5.0\n",
      "0 2013-01-09  1.990000e+02           1.0\n",
      "0 2013-01-10  4.990000e+02           1.0\n",
      "0 2013-01-11  6.490000e+02           1.0\n",
      "0 2013-01-12  3.990000e+02           1.0\n",
      "0 2013-01-13  1.799000e+03           1.0\n",
      "0 2013-01-14  5.990000e+02           1.0\n",
      "0 2013-01-14  3.621006e+09        2290.0\n",
      "0 2013-01-15  2.990000e+02           1.0\n",
      "0 2013-01-16  1.549000e+03           1.0\n",
      "0 2013-01-17  1.490000e+02           1.0\n",
      "0 2013-01-18  9.890000e+02           1.0\n",
      "0 2013-01-19  3.490000e+02           1.0\n",
      "0 2013-01-20  1.990000e+02           1.0\n",
      "0 2013-01-21  7.900000e+01           1.0\n",
      "0 2013-01-22  2.490000e+02           1.0\n",
      "0 2013-01-23  5.490000e+02           1.0\n",
      "0 2013-01-24  9.900000e+01           1.0\n",
      "0 2013-01-25  3.990000e+02           1.0\n",
      "0 2013-01-26  9.700000e+01           1.0\n",
      "0 2013-01-27  2.990000e+02           1.0\n",
      "0 2013-01-28  1.399000e+03           1.0\n",
      "0 2013-01-29  2.360000e+02           1.0\n"
     ]
    }
   ],
   "source": [
    "print(df.head(30))"
   ]
  },
  {
   "cell_type": "code",
   "execution_count": null,
   "metadata": {},
   "outputs": [],
   "source": []
  }
 ],
 "metadata": {
  "kernelspec": {
   "display_name": "Python 3",
   "language": "python",
   "name": "python3"
  },
  "language_info": {
   "codemirror_mode": {
    "name": "ipython",
    "version": 3
   },
   "file_extension": ".py",
   "mimetype": "text/x-python",
   "name": "python",
   "nbconvert_exporter": "python",
   "pygments_lexer": "ipython3",
   "version": "3.8.2"
  }
 },
 "nbformat": 4,
 "nbformat_minor": 4
}
